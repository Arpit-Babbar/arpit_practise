{
 "metadata": {
  "language_info": {
   "codemirror_mode": {
    "name": "ipython",
    "version": 3
   },
   "file_extension": ".py",
   "mimetype": "text/x-python",
   "name": "python",
   "nbconvert_exporter": "python",
   "pygments_lexer": "ipython3",
   "version": "3.8.3-final"
  },
  "orig_nbformat": 2,
  "kernelspec": {
   "name": "python3",
   "display_name": "Python 3"
  }
 },
 "nbformat": 4,
 "nbformat_minor": 2,
 "cells": [
  {
   "source": [
    "The amplification factor in backward Lax-Wendroff is \n",
    "$$\\epsilon(k,\\sigma) = \\left(1 + \\frac{\\sigma^2}{2} - \\frac{3}{2}\\sigma\\right) - \\left(\\sigma^2 - 2 \\sigma\\right)e^{-\\dot{\\iota}kh} + \\left(\\frac{\\sigma^2}{2} - \\frac{\\sigma}{2}\\right)e^{-2\\dot{\\iota}kh} $$\n",
    "We then put $-kh = \\theta$ and define\n",
    "$$\\tilde{\\epsilon}(\\theta,\\sigma) = \\left(1 + \\frac{\\sigma^2}{2} - \\frac{3}{2}\\sigma\\right) - \\left(\\sigma^2 - 2 \\sigma\\right)e^{\\dot{\\iota}\\theta} + \\left(\\frac{\\sigma^2}{2} - \\frac{\\sigma}{2}\\right)e^{2\\dot{\\iota}\\theta}$$\n",
    "We'd then find $\\sigma$ for which $$|\\tilde{\\epsilon}(\\sigma,\\theta)| \\le 1, \\quad \\forall \\theta \\in [0,2\\pi]$$"
   ],
   "cell_type": "markdown",
   "metadata": {}
  },
  {
   "cell_type": "code",
   "execution_count": 1,
   "metadata": {},
   "outputs": [],
   "source": [
    "import numpy as np"
   ]
  },
  {
   "cell_type": "code",
   "execution_count": 29,
   "metadata": {},
   "outputs": [],
   "source": [
    "#Defining amplification factor\n",
    "def amp(theta,sigam):\n",
    "    amp = (1.0 + sigma**2/2.0 - 1.5 * sigma) - (sigma**2 - 2.0*sigma)*np.exp(1j*theta) + (sigma**2/2.0 - sigma/2.0) * np.exp(2j*theta)\n",
    "    return amp"
   ]
  },
  {
   "cell_type": "code",
   "execution_count": 50,
   "metadata": {},
   "outputs": [],
   "source": [
    "theta_grid = np.linspace(0.0,2.0*np.pi, 100)\n",
    "sigma_set = np.linspace(0.0,3.0,30)"
   ]
  },
  {
   "cell_type": "code",
   "execution_count": 51,
   "metadata": {},
   "outputs": [
    {
     "output_type": "stream",
     "name": "stdout",
     "text": [
      "Amplification factor for sigma =  0.0  is  1.0\nAmplification factor for sigma =  0.10344827586206896  is  1.0\nAmplification factor for sigma =  0.20689655172413793  is  1.0000000000000002\nAmplification factor for sigma =  0.3103448275862069  is  1.0\nAmplification factor for sigma =  0.41379310344827586  is  1.0000000000000002\nAmplification factor for sigma =  0.5172413793103449  is  0.9999999999999998\nAmplification factor for sigma =  0.6206896551724138  is  0.9999999999999998\nAmplification factor for sigma =  0.7241379310344828  is  0.9999999999999999\nAmplification factor for sigma =  0.8275862068965517  is  0.9999999999999998\nAmplification factor for sigma =  0.9310344827586207  is  0.9999999999999998\nAmplification factor for sigma =  1.0344827586206897  is  0.9999999999999999\nAmplification factor for sigma =  1.1379310344827587  is  1.0000000000000002\nAmplification factor for sigma =  1.2413793103448276  is  1.0\nAmplification factor for sigma =  1.3448275862068966  is  1.0\nAmplification factor for sigma =  1.4482758620689655  is  1.0\nAmplification factor for sigma =  1.5517241379310345  is  1.0\nAmplification factor for sigma =  1.6551724137931034  is  0.9999999999999997\nAmplification factor for sigma =  1.7586206896551724  is  1.0000000000000004\nAmplification factor for sigma =  1.8620689655172413  is  0.9999999999999997\nAmplification factor for sigma =  1.9655172413793103  is  1.0000000000000004\nAmplification factor for sigma =  2.0689655172413794  is  1.285246838849854\nAmplification factor for sigma =  2.1724137931034484  is  1.7488118341635315\nAmplification factor for sigma =  2.2758620689655173  is  2.2551918370744852\nAmplification factor for sigma =  2.3793103448275863  is  2.8043777098287275\nAmplification factor for sigma =  2.4827586206896552  is  3.396365203480485\nAmplification factor for sigma =  2.586206896551724  is  4.03115207893703\nAmplification factor for sigma =  2.689655172413793  is  4.708737047083543\nAmplification factor for sigma =  2.793103448275862  is  5.429119315037968\nAmplification factor for sigma =  2.896551724137931  is  6.192298369452487\nAmplification factor for sigma =  3.0  is  6.998273864034455\n"
     ]
    }
   ],
   "source": [
    "for sigma in sigma_set:\n",
    "    amplification = 0.0\n",
    "    for theta in theta_grid:\n",
    "        amplification = max(amplification,np.abs(amp(theta,sigma)))\n",
    "    print(\"Amplification factor for sigma = \", sigma, \" is \", amplification)"
   ]
  }
 ]
}