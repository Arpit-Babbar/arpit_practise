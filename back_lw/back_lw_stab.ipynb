{
 "metadata": {
  "language_info": {
   "codemirror_mode": {
    "name": "ipython",
    "version": 3
   },
   "file_extension": ".py",
   "mimetype": "text/x-python",
   "name": "python",
   "nbconvert_exporter": "python",
   "pygments_lexer": "ipython3",
   "version": "3.8.5-final"
  },
  "orig_nbformat": 2,
  "kernelspec": {
   "name": "python3",
   "display_name": "Python 3"
  }
 },
 "nbformat": 4,
 "nbformat_minor": 2,
 "cells": [
  {
   "source": [
    "The amplification factor in backward Lax-Wendroff is \n",
    "$$\\epsilon(k,\\sigma) = \\left(1 + \\frac{\\sigma^2}{2} - \\frac{3}{2}\\sigma\\right) - \\left(\\sigma^2 - 2 \\sigma\\right)e^{-\\dot{\\iota}kh} + \\left(\\frac{\\sigma^2}{2} - \\frac{\\sigma}{2}\\right)e^{-2\\dot{\\iota}kh} $$\n",
    "We then put $-kh = \\theta$ and define\n",
    "$$\\tilde{\\epsilon}(\\theta,\\sigma) = \\left(1 + \\frac{\\sigma^2}{2} - \\frac{3}{2}\\sigma\\right) - \\left(\\sigma^2 - 2 \\sigma\\right)e^{\\dot{\\iota}\\theta} + \\left(\\frac{\\sigma^2}{2} - \\frac{\\sigma}{2}\\right)e^{2\\dot{\\iota}\\theta}$$\n",
    "We'd then find $\\sigma$ for which $$|\\tilde{\\epsilon}(\\sigma,\\theta)| \\le 1, \\quad \\forall \\theta \\in [0,2\\pi]$$"
   ],
   "cell_type": "markdown",
   "metadata": {}
  },
  {
   "cell_type": "code",
   "execution_count": 1,
   "metadata": {},
   "outputs": [],
   "source": [
    "import numpy as np"
   ]
  },
  {
   "cell_type": "code",
   "execution_count": 2,
   "metadata": {},
   "outputs": [],
   "source": [
    "#Defining amplification factor\n",
    "def amp(theta,sigam):\n",
    "    amp = (1.0 + sigma**2/2.0 - 1.5 * sigma) - (sigma**2 - 2.0*sigma)*np.exp(1j*theta) + (sigma**2/2.0 - sigma/2.0) * np.exp(2j*theta)\n",
    "    return amp"
   ]
  },
  {
   "cell_type": "code",
   "execution_count": 3,
   "metadata": {},
   "outputs": [],
   "source": [
    "theta_grid = np.linspace(0.0,2.0*np.pi, 100)\n",
    "sigma_set = np.linspace(1.999,2.001,3)"
   ]
  },
  {
   "cell_type": "code",
   "execution_count": 4,
   "metadata": {},
   "outputs": [
    {
     "output_type": "stream",
     "name": "stdout",
     "text": [
      "Amplification factor for sigma =  1.999  is  1.0000000000000002\nAmplification factor for sigma =  2.0  is  1.0\nAmplification factor for sigma =  2.001  is  1.003999989429314\n"
     ]
    }
   ],
   "source": [
    "for sigma in sigma_set:\n",
    "    amplification = 0.0\n",
    "    for theta in theta_grid:\n",
    "        amplification = max(amplification,np.abs(amp(theta,sigma)))\n",
    "    print(\"Amplification factor for sigma = \", sigma, \" is \", amplification)"
   ]
  },
  {
   "source": [
    "Thus, the cfl number is 2.0, as is verified by tests."
   ],
   "cell_type": "markdown",
   "metadata": {}
  }
 ]
}