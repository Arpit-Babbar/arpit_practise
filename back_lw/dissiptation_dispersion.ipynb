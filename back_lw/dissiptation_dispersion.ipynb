{
  "nbformat": 4,
  "nbformat_minor": 0,
  "metadata": {
    "language_info": {
      "codemirror_mode": {
        "name": "ipython",
        "version": 3
      },
      "file_extension": ".py",
      "mimetype": "text/x-python",
      "name": "python",
      "nbconvert_exporter": "python",
      "pygments_lexer": "ipython3",
      "version": "3.8.5-final"
    },
    "orig_nbformat": 2,
    "kernelspec": {
      "name": "python3",
      "display_name": "Python 3"
    },
    "colab": {
      "name": "back_lw_stab.ipynb",
      "provenance": [],
      "include_colab_link": true
    }
  },
  "cells": [
    {
      "cell_type": "markdown",
      "metadata": {
        "id": "view-in-github",
        "colab_type": "text"
      },
      "source": [
        "<a href=\"https://colab.research.google.com/github/Arpit-Babbar/arpit_practise/blob/main/back_lw/dissiptation_dispersion.ipynb\" target=\"_parent\"><img src=\"https://colab.research.google.com/assets/colab-badge.svg\" alt=\"Open In Colab\"/></a>"
      ]
    },
    {
      "cell_type": "markdown",
      "metadata": {
        "id": "_kVfpY7kif0G"
      },
      "source": [
        "The amplification factor in backward Lax-Wendroff is \n",
        "$$\\epsilon(k,\\sigma) = \\left(1 + \\frac{\\sigma^2}{2} - \\frac{3}{2}\\sigma\\right) - \\left(\\sigma^2 - 2 \\sigma\\right)e^{-\\dot{\\iota}kh} + \\left(\\frac{\\sigma^2}{2} - \\frac{\\sigma}{2}\\right)e^{-2\\dot{\\iota}kh} $$\n",
        "We then put $-kh = \\theta$ and define\n",
        "$$\\tilde{\\epsilon}(\\theta,\\sigma) = \\left(1 + \\frac{\\sigma^2}{2} - \\frac{3}{2}\\sigma\\right) - \\left(\\sigma^2 - 2 \\sigma\\right)e^{\\dot{\\iota}\\theta} + \\left(\\frac{\\sigma^2}{2} - \\frac{\\sigma}{2}\\right)e^{2\\dot{\\iota}\\theta}$$\n",
        "We'd then find $\\sigma$ for which $$|\\tilde{\\epsilon}(\\sigma,\\theta)| \\le 1, \\quad \\forall \\theta \\in [0,2\\pi]$$\n",
        "\n",
        "The amplifaction factor in central Lax-Wendroff is \n",
        "\n",
        "$$\\gamma(k,\\sigma) = \\left(-\\frac{\\sigma}{2} +\\frac{\\sigma^2}{2}\\right)e^{\\dot{\\iota}kh} + (1 -\\sigma^2) + \\left(\\frac{\\sigma}{2} + \\frac{\\sigma^2}{2} \\right) e^{-\\dot{\\iota}kh}$$\n",
        "\n",
        "Again, defining $$\\tilde{\\gamma}(\\theta,\\sigma) =\\left(-\\frac{\\sigma}{2} +\\frac{\\sigma^2}{2}\\right)e^{\\dot{\\iota}\\theta} + (1 -\\sigma^2) + \\left(\\frac{\\sigma}{2} + \\frac{\\sigma^2}{2} \\right) e^{-\\dot{\\iota}\\theta}$$\n",
        "\n",
        "We'd find $\\sigma$ for which \n",
        "We'd then find $\\sigma$ for which $$|\\tilde{\\gamma}(\\sigma,\\theta)| \\le 1, \\quad \\forall \\theta \\in [0,2\\pi]$$\n"
      ]
    },
    {
      "cell_type": "code",
      "metadata": {
        "id": "qTVU6qG5if0G"
      },
      "source": [
        "import numpy as np\n",
        "from numpy import exp\n",
        "import matplotlib.pyplot as plt"
      ],
      "execution_count": 90,
      "outputs": []
    },
    {
      "cell_type": "code",
      "metadata": {
        "id": "XZKqiuaaif0H"
      },
      "source": [
        "#Defining amplification factor functions for both schemes\n",
        "def amp_back(theta,sigma):\n",
        "  amp = (1.0 + sigma**2/2.0 - 1.5 * sigma) - (sigma**2 - 2.0*sigma)*exp(1.0j*theta) + (sigma**2/2.0 - sigma/2.0) * exp(2.0j*theta)\n",
        "  return amp\n",
        "def amp_cent(theta,sigma):\n",
        "  amp = (-sigma/2.0 + sigma**2/2.0)*exp(1j*theta) + (1.0 - sigma**2) + (sigma/2.0 + sigma**2/2.0) * exp(-1j * theta)\n",
        "  return amp    "
      ],
      "execution_count": 78,
      "outputs": []
    },
    {
      "cell_type": "code",
      "metadata": {
        "id": "v0bGtok7if0H"
      },
      "source": [
        "theta_grid = np.linspace(0.0,2.0*np.pi, 100)\n",
        "sigma_set = np.linspace(0.001,2.001,5)"
      ],
      "execution_count": 99,
      "outputs": []
    },
    {
      "cell_type": "code",
      "metadata": {
        "id": "9vKT2L_Pif0H",
        "outputId": "64d8b95a-b523-43b2-dd3a-2bf61f882132",
        "colab": {
          "base_uri": "https://localhost:8080/"
        }
      },
      "source": [
        "for sigma in sigma_set:\n",
        "    amplification = 0.0\n",
        "    amplification_central = 0.0\n",
        "    for theta in theta_grid:\n",
        "        amplification = max(amplification,np.abs(amp_back(theta,sigma)))\n",
        "        amplification_central = max(amplification_central,np.abs(amp_cent(theta,sigma)))\n",
        "    print(\"Amplification factor in backward lw for sigma = \", sigma, \" is \", amplification)\n",
        "    print(\"Amplification factor in central lw for sigma = \", sigma, \" is \", amplification_central)"
      ],
      "execution_count": 100,
      "outputs": [
        {
          "output_type": "stream",
          "text": [
            "Amplification factor in backward lw for sigma =  0.001  is  1.0\n",
            "Amplification factor in central lw for sigma =  0.001  is  1.0\n",
            "Amplification factor in backward lw for sigma =  0.501  is  0.9999999999999999\n",
            "Amplification factor in central lw for sigma =  0.501  is  0.9999999999999999\n",
            "Amplification factor in backward lw for sigma =  1.001  is  1.0\n",
            "Amplification factor in central lw for sigma =  1.001  is  1.0039999894293137\n",
            "Amplification factor in backward lw for sigma =  1.501  is  0.9999999999999996\n",
            "Amplification factor in central lw for sigma =  1.501  is  3.505191245988973\n",
            "Amplification factor in backward lw for sigma =  2.001  is  1.003999989429314\n",
            "Amplification factor in central lw for sigma =  2.001  is  7.006273808633761\n"
          ],
          "name": "stdout"
        }
      ]
    },
    {
      "cell_type": "markdown",
      "metadata": {
        "id": "ltgtnUUlif0I"
      },
      "source": [
        "Thus, cfl for central Lax-Wendroff is 1.0, while for backward Lax-Wendroff it is 2.0"
      ]
    },
    {
      "cell_type": "markdown",
      "metadata": {
        "id": "S3B-GlImk46n"
      },
      "source": [
        "#Dissipation error comparison\n",
        "\n",
        "Fixing a $\\sigma$ for our scheme, $\\gamma_k = \\epsilon(k,\\sigma)$, which we can compute in our code as \n",
        "\n",
        "```\n",
        "amp(sigma,-kh)\n",
        "```\n",
        "Recall that $\\gamma_k$ satisfies $u_j^n = \\sum c_k e^{ikx_j} \\implies u_j^{n+1} = \\sum \\gamma_k c_k e^{ikx_j}$. The solutions of our original PDE are of the form $u_j^n = \\sum f(x_j)g_k^ne^{-ikx_k}$ such that $|g_k| = 1$, i.e., they have no dissipation, we would also like this from our scheme.\n",
        "\n",
        "So, we'd like $|\\gamma_k|$ to be close to 1. \n",
        "\n",
        "Thus, to check which scheme has lesser dispersion, we plot the two amplification factors."
      ]
    },
    {
      "cell_type": "code",
      "metadata": {
        "id": "YNC0ZVWRkq-4"
      },
      "source": [
        "sigma = 0.5\n",
        "h = 0.1\n",
        "sup = 0.0\n",
        "back = [] #Stores the amplification factors for backward lw\n",
        "cent = [] #Stores the amplification factors for central lw\n",
        "phase_angles = []\n",
        "for i in range(-30,30):\n",
        "  i = float(i)\n",
        "  phase_angles.append(i*h)\n",
        "  back.append(np.abs(amp_back(-i*h,sigma)))\n",
        "  cent.append(np.abs(amp_cent(-i*h,sigma)))"
      ],
      "execution_count": 102,
      "outputs": []
    },
    {
      "cell_type": "code",
      "metadata": {
        "id": "cucsdMhDnNpu",
        "outputId": "f43c3d74-504f-484f-e31b-af6a2cfcd2b8",
        "colab": {
          "base_uri": "https://localhost:8080/",
          "height": 264
        }
      },
      "source": [
        "plt.plot(phase_angles,back)\n",
        "plt.plot(phase_angles,cent)\n",
        "plt.show()"
      ],
      "execution_count": 105,
      "outputs": [
        {
          "output_type": "display_data",
          "data": {
            "image/png": "[encoded data removed]",
            "text/plain": [
              "<Figure size 432x288 with 1 Axes>"
            ]
          },
          "metadata": {
            "tags": [],
            "needs_background": "light"
          }
        }
      ]
    },
    {
      "cell_type": "markdown",
      "metadata": {
        "id": "-0rHITiFxJL0"
      },
      "source": [
        "Both the amplification factors stay together, so both the schemes have the same amount of dissipation."
      ]
    },
    {
      "cell_type": "markdown",
      "metadata": {
        "id": "EkGZvC7izo0_"
      },
      "source": [
        "#Dispersion\n"
      ]
    },
    {
      "cell_type": "code",
      "metadata": {
        "id": "KnUBT7EUxTqG"
      },
      "source": [
        ""
      ],
      "execution_count": null,
      "outputs": []
    }
  ]
}