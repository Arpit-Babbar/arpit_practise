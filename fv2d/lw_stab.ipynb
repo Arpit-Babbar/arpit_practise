{
 "metadata": {
  "language_info": {
   "codemirror_mode": {
    "name": "ipython",
    "version": 3
   },
   "file_extension": ".py",
   "mimetype": "text/x-python",
   "name": "python",
   "nbconvert_exporter": "python",
   "pygments_lexer": "ipython3",
   "version": "3.8.5-final"
  },
  "orig_nbformat": 2,
  "kernelspec": {
   "name": "python3",
   "display_name": "Python 3"
  }
 },
 "nbformat": 4,
 "nbformat_minor": 2,
 "cells": [
  {
   "cell_type": "code",
   "execution_count": 1,
   "metadata": {},
   "outputs": [],
   "source": [
    "import numpy as np\n",
    "from numpy import sin\n",
    "import matplotlib.pyplot as plt"
   ]
  },
  {
   "source": [
    "For the PDE \n",
    "$$u_t + au_x + bu_y = 0, $$\n",
    "the amplification factor for $k^\\text{th}$ fourier node for $k=(k_1,k_2)$, of the Lax-Wendroff scheme is \n",
    "$$\\alpha(\\lambda_x,\\lambda_y,k) = 1 - ab\\lambda_x \\lambda_y \\sin(h_1)\\sin(h_2)  - 2a^2 \\lambda_x^2 \\sin^2\\left(\\frac{h_1}{2}\\right) - 2 b^2 \\lambda_y^2 \\sin^2\\left(\\frac{h_2}{2}\\right) -\\dot{\\iota}\\left( a\\lambda_x \\sin(h_1) + b \\lambda_y \\sin(h_2) \\right) $$\n",
    "where $\\lambda_x = \\frac{\\Delta t}{\\Delta x}, \\lambda_y = \\frac{\\Delta t}{\\Delta y}$ and $h_1 = k_1 \\Delta x, h_2 = k_2 \\Delta y$"
   ],
   "cell_type": "markdown",
   "metadata": {}
  },
  {
   "cell_type": "code",
   "execution_count": 2,
   "metadata": {},
   "outputs": [],
   "source": [
    "lamx = 0.5; lamy = 0.5 "
   ]
  },
  {
   "cell_type": "code",
   "execution_count": 54,
   "metadata": {},
   "outputs": [],
   "source": [
    "def amp_f(lamx,lamy,h1,h2):\n",
    "    a = 1.0\n",
    "    b = 1.0\n",
    "    result = 1.0 - a*b*lamx*lamy*sin(h1)*sin(h2) + 0.0j\n",
    "    result += -2.0 * a**2 * lamx**2 * sin(h1/2.0)**2 - 2* b**2 * lamy**2 * sin(h2/2.0)**2\n",
    "    result += -1.0j *(a*lamx*sin(h1) + b*lamy*sin(h2))\n",
    "    return max(abs(result))"
   ]
  },
  {
   "cell_type": "code",
   "execution_count": 21,
   "metadata": {},
   "outputs": [],
   "source": []
  },
  {
   "cell_type": "code",
   "execution_count": 74,
   "metadata": {},
   "outputs": [],
   "source": [
    "def test_stab(lamx_range,lamy_range):\n",
    "    h1 = np.linspace(0,2*np.pi,100)\n",
    "    h2 = np.linspace(0,2*np.pi,100)\n",
    "    for lamx in lamx_range:\n",
    "        for lamy in lamy_range:\n",
    "            if amp_f(lamx,lamy,h1,h2)>1.00001:\n",
    "                print('Unstable for lamx = ',lamx, 'lamy = ',lamy)\n",
    "            else:\n",
    "                print('Stable for lamx = ',lamx, 'lamy = ',lamy)"
   ]
  },
  {
   "cell_type": "code",
   "execution_count": 94,
   "metadata": {},
   "outputs": [],
   "source": [
    "lamx_range = np.linspace(0.6,0.9,10)"
   ]
  },
  {
   "cell_type": "code",
   "execution_count": 95,
   "metadata": {},
   "outputs": [],
   "source": [
    "lamy_range = np.linspace(0.1,0.9,10)"
   ]
  },
  {
   "cell_type": "code",
   "execution_count": 46,
   "metadata": {},
   "outputs": [],
   "source": [
    "h1 = np.linspace(0,2*np.pi,100)\n",
    "h2 = np.linspace(0,2*np.pi,100)"
   ]
  },
  {
   "cell_type": "code",
   "execution_count": null,
   "metadata": {},
   "outputs": [],
   "source": []
  }
 ]
}