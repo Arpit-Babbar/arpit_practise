{
  "nbformat": 4,
  "nbformat_minor": 0,
  "metadata": {
    "language_info": {
      "codemirror_mode": {
        "name": "ipython",
        "version": 3
      },
      "file_extension": ".py",
      "mimetype": "text/x-python",
      "name": "python",
      "nbconvert_exporter": "python",
      "pygments_lexer": "ipython3",
      "version": "3.8.5-final"
    },
    "orig_nbformat": 2,
    "kernelspec": {
      "name": "python3",
      "display_name": "Python 3"
    },
    "colab": {
      "name": "lw_stab.ipynb",
      "provenance": []
    }
  },
  "cells": [
    {
      "cell_type": "code",
      "metadata": {
        "id": "wDUofDMIlw85"
      },
      "source": [
        "import numpy as np\n",
        "from numpy import sin\n",
        "import matplotlib.pyplot as plt"
      ],
      "execution_count": 1,
      "outputs": []
    },
    {
      "cell_type": "markdown",
      "metadata": {
        "id": "_dvr8vR6lw85"
      },
      "source": [
        "For the PDE \n",
        "$$u_t + au_x + bu_y = 0, $$\n",
        "the amplification factor for $k^\\text{th}$ fourier node for $k=(k_1,k_2)$, of the Lax-Wendroff scheme is \n",
        "$$\\alpha(\\lambda_x,\\lambda_y,k) = 1 - ab\\lambda_x \\lambda_y \\sin(h_1)\\sin(h_2)  - 2a^2 \\lambda_x^2 \\sin^2\\left(\\frac{h_1}{2}\\right) - 2 b^2 \\lambda_y^2 \\sin^2\\left(\\frac{h_2}{2}\\right) -\\dot{\\iota}\\left( a\\lambda_x \\sin(h_1) + b \\lambda_y \\sin(h_2) \\right) $$\n",
        "where $\\lambda_x = \\frac{\\Delta t}{\\Delta x}, \\lambda_y = \\frac{\\Delta t}{\\Delta y}$ and $h_1 = k_1 \\Delta x, h_2 = k_2 \\Delta y$"
      ]
    },
    {
      "cell_type": "code",
      "metadata": {
        "id": "ycwmoNQ8lw85"
      },
      "source": [
        "def amp_f(lamx,lamy,h1,h2):\n",
        "    a = 1.0\n",
        "    b = 1.0\n",
        "    result = 1.0 - a*b*lamx*lamy*sin(h1)*sin(h2) + 0.0j\n",
        "    result += -2.0 * a**2 * lamx**2 * sin(h1/2.0)**2 - 2* b**2 * lamy**2 * sin(h2/2.0)**2\n",
        "    result += -1.0j *(a*lamx*sin(h1) + b*lamy*sin(h2))\n",
        "    return max(abs(result))"
      ],
      "execution_count": 6,
      "outputs": []
    },
    {
      "cell_type": "code",
      "metadata": {
        "id": "C4cdyNPdlw85"
      },
      "source": [
        "def test_stab(lamx_range,lamy_range):\n",
        "    h1 = np.linspace(0,2*np.pi,100)\n",
        "    h2 = np.linspace(0,2*np.pi,100)\n",
        "    for lamx in lamx_range:\n",
        "        for lamy in lamy_range:\n",
        "            if amp_f(lamx,lamy,h1,h2)>1.00001:\n",
        "                print('Unstable for lamx = ',lamx, 'lamy = ',lamy)\n",
        "                print('Higher lamy also unstable, will not be printed')\n",
        "                break\n",
        "            else:\n",
        "                print('Stable for lamx = ',lamx, 'lamy = ',lamy)"
      ],
      "execution_count": 11,
      "outputs": []
    },
    {
      "cell_type": "code",
      "metadata": {
        "id": "bf0TuTPElw85"
      },
      "source": [
        "lamx_range = np.linspace(0.1,0.9,10)\n",
        "lamy_range = np.linspace(0.1,0.9,10)"
      ],
      "execution_count": 12,
      "outputs": []
    },
    {
      "cell_type": "code",
      "metadata": {
        "id": "4pzg3rY_lw85",
        "outputId": "d3d44303-6724-48be-f540-610cf7580fae",
        "colab": {
          "base_uri": "https://localhost:8080/"
        }
      },
      "source": [
        "test_stab(lamx_range,lamy_range)"
      ],
      "execution_count": 13,
      "outputs": [
        {
          "output_type": "stream",
          "text": [
            "Stable for lamx =  0.1 lamy =  0.1\n",
            "Stable for lamx =  0.1 lamy =  0.18888888888888888\n",
            "Stable for lamx =  0.1 lamy =  0.2777777777777778\n",
            "Stable for lamx =  0.1 lamy =  0.3666666666666667\n",
            "Stable for lamx =  0.1 lamy =  0.4555555555555556\n",
            "Stable for lamx =  0.1 lamy =  0.5444444444444445\n",
            "Stable for lamx =  0.1 lamy =  0.6333333333333333\n",
            "Stable for lamx =  0.1 lamy =  0.7222222222222222\n",
            "Unstable for lamx =  0.1 lamy =  0.8111111111111111\n",
            "Higher lamy also unstable, will not be printed\n",
            "Stable for lamx =  0.18888888888888888 lamy =  0.1\n",
            "Stable for lamx =  0.18888888888888888 lamy =  0.18888888888888888\n",
            "Stable for lamx =  0.18888888888888888 lamy =  0.2777777777777778\n",
            "Stable for lamx =  0.18888888888888888 lamy =  0.3666666666666667\n",
            "Stable for lamx =  0.18888888888888888 lamy =  0.4555555555555556\n",
            "Stable for lamx =  0.18888888888888888 lamy =  0.5444444444444445\n",
            "Unstable for lamx =  0.18888888888888888 lamy =  0.6333333333333333\n",
            "Higher lamy also unstable, will not be printed\n",
            "Stable for lamx =  0.2777777777777778 lamy =  0.1\n",
            "Stable for lamx =  0.2777777777777778 lamy =  0.18888888888888888\n",
            "Stable for lamx =  0.2777777777777778 lamy =  0.2777777777777778\n",
            "Stable for lamx =  0.2777777777777778 lamy =  0.3666666666666667\n",
            "Stable for lamx =  0.2777777777777778 lamy =  0.4555555555555556\n",
            "Unstable for lamx =  0.2777777777777778 lamy =  0.5444444444444445\n",
            "Higher lamy also unstable, will not be printed\n",
            "Stable for lamx =  0.3666666666666667 lamy =  0.1\n",
            "Stable for lamx =  0.3666666666666667 lamy =  0.18888888888888888\n",
            "Stable for lamx =  0.3666666666666667 lamy =  0.2777777777777778\n",
            "Unstable for lamx =  0.3666666666666667 lamy =  0.3666666666666667\n",
            "Higher lamy also unstable, will not be printed\n",
            "Stable for lamx =  0.4555555555555556 lamy =  0.1\n",
            "Stable for lamx =  0.4555555555555556 lamy =  0.18888888888888888\n",
            "Stable for lamx =  0.4555555555555556 lamy =  0.2777777777777778\n",
            "Unstable for lamx =  0.4555555555555556 lamy =  0.3666666666666667\n",
            "Higher lamy also unstable, will not be printed\n",
            "Stable for lamx =  0.5444444444444445 lamy =  0.1\n",
            "Stable for lamx =  0.5444444444444445 lamy =  0.18888888888888888\n",
            "Unstable for lamx =  0.5444444444444445 lamy =  0.2777777777777778\n",
            "Higher lamy also unstable, will not be printed\n",
            "Stable for lamx =  0.6333333333333333 lamy =  0.1\n",
            "Unstable for lamx =  0.6333333333333333 lamy =  0.18888888888888888\n",
            "Higher lamy also unstable, will not be printed\n",
            "Stable for lamx =  0.7222222222222222 lamy =  0.1\n",
            "Unstable for lamx =  0.7222222222222222 lamy =  0.18888888888888888\n",
            "Higher lamy also unstable, will not be printed\n",
            "Unstable for lamx =  0.8111111111111111 lamy =  0.1\n",
            "Higher lamy also unstable, will not be printed\n",
            "Unstable for lamx =  0.9 lamy =  0.1\n",
            "Higher lamy also unstable, will not be printed\n"
          ],
          "name": "stdout"
        }
      ]
    },
    {
      "cell_type": "code",
      "metadata": {
        "id": "dh-FxpLdlw85"
      },
      "source": [
        "h1 = np.linspace(0,2*np.pi,100)\n",
        "h2 = np.linspace(0,2*np.pi,100)"
      ],
      "execution_count": null,
      "outputs": []
    },
    {
      "cell_type": "code",
      "metadata": {
        "id": "HHrv5KGClw86"
      },
      "source": [
        ""
      ],
      "execution_count": null,
      "outputs": []
    }
  ]
}