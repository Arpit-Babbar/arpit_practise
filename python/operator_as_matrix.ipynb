{
  "nbformat": 4,
  "nbformat_minor": 0,
  "metadata": {
    "kernelspec": {
      "display_name": "Python 3",
      "language": "python",
      "name": "python3"
    },
    "language_info": {
      "codemirror_mode": {
        "name": "ipython",
        "version": 3
      },
      "file_extension": ".py",
      "mimetype": "text/x-python",
      "name": "python",
      "nbconvert_exporter": "python",
      "pygments_lexer": "ipython3",
      "version": "3.8.5"
    },
    "colab": {
      "name": "operator_as_matrix.ipynb",
      "provenance": [],
      "include_colab_link": true
    }
  },
  "cells": [
    {
      "cell_type": "markdown",
      "metadata": {
        "id": "view-in-github",
        "colab_type": "text"
      },
      "source": [
        "<a href=\"https://colab.research.google.com/github/Arpit-Babbar/arpit_practise/blob/main/python/operator_as_matrix.ipynb\" target=\"_parent\"><img src=\"https://colab.research.google.com/assets/colab-badge.svg\" alt=\"Open In Colab\"/></a>"
      ]
    },
    {
      "cell_type": "markdown",
      "metadata": {
        "id": "pBMB4L1QTlpt"
      },
      "source": [
        "We are given a matrix operator(i.e., fourth order tensor) \n",
        "$$\n",
        "T_A:\\mathbb{M}^{n+1} \\to \\mathbb{M}^{n+1}\n",
        "$$\n",
        "defined as \n",
        "$$\n",
        "T_A(B) = AB\n",
        "$$\n",
        "where $A,B$ are $n+1 \\times n+1$ matrices."
      ]
    },
    {
      "cell_type": "markdown",
      "metadata": {
        "id": "emcYu2oOTlp0"
      },
      "source": [
        "We wish to see $T_A$ as an $(n+1)^2 \\times (n+1)^2$ matrix acting on vectors of size $(n+1)^2$ so that Python can compute its eigenvalues. \n",
        "\n",
        "We'd create a basis representation map $\\Psi : \\mathbb{M}^{n+1} \\to \\mathbb{R}^{(n+1)^2}$ so that corresponding to our operator $T_A$, we have a matrix $\\mathbf{A}_{(n+1)^2\\times (n+1)^2}$ so that, for a matrix $B$, defining $\\mathbf{b}_{(n+1)^2 \\times 1} := \\Psi(B)$, we have \n",
        "$$ \\Psi^{-1}[\\mathbf{A} \\mathbf{b}] = T_A(B) $$"
      ]
    },
    {
      "cell_type": "markdown",
      "metadata": {
        "id": "gqRrYrwuTlp1"
      },
      "source": [
        "\n",
        "We order the standard basis $$\\{E_{ij}\\}_{0 \\le i,j \\le n}$$ as \n",
        "$$\\{E_{00},E_{01},\\dots,E_{0n},E_{10},E_{11},\\dots,E_{nn} \\}.$$\n",
        "That is, we choose the basis to be $\\{e_k\\}_{k:0}^{(n+1)^2}$ where\n",
        "$$e_k = E_{\\left[\\frac{k}{n+1}\\right],k-\\left[\\frac{k}{n+1}\\right](n+1)} $$\n",
        "where $[x]$ gives the greatest integer less than $x$."
      ]
    },
    {
      "cell_type": "code",
      "metadata": {
        "id": "gb93BVOBTlp2"
      },
      "source": [
        "import numpy as np\n",
        "from numpy import floor,sqrt"
      ],
      "execution_count": 1,
      "outputs": []
    },
    {
      "cell_type": "markdown",
      "metadata": {
        "id": "Yf-29NnMTlp2"
      },
      "source": [
        "Let's use the formula to write a matrix as a vector and then back(For going back, we need to note that $E_{ij}=e_{i(n+1)+j}$)."
      ]
    },
    {
      "cell_type": "code",
      "metadata": {
        "scrolled": false,
        "id": "bPrS06NuTlp3"
      },
      "source": [
        "def mat2vec(B): #Converts a matrix to vector\n",
        "    n= np.shape(B)[0]-1\n",
        "    b = np.zeros(((n+1)**2,1))\n",
        "    for k in range(0,(n+1)**2):\n",
        "        i,j =floor(k/(n+1)),k-np.floor(k/(n+1))*(n+1)\n",
        "        i,j=int(i),int(j)\n",
        "        b[k,0] = B[i,j]\n",
        "    return np.array(b)\n",
        "def vec2mat(b): #sending vector representation back to matrix\n",
        "    N=np.shape(b)[0]\n",
        "    assert (sqrt(N).is_integer()),'Only perfect square \\\n",
        "            sized 1-d arrays can be represented as matrices'\n",
        "    n=sqrt(N)-1\n",
        "    n=int(n)\n",
        "    B = np.zeros((n+1,n+1))\n",
        "    for i in range(0,n+1):\n",
        "        for j in range(0,n+1):\n",
        "            B[i,j]= b[i*(n+1)+j,0]\n",
        "    return B"
      ],
      "execution_count": 2,
      "outputs": []
    },
    {
      "cell_type": "markdown",
      "metadata": {
        "id": "z56zdo4tTlp3"
      },
      "source": [
        "Let's test that the functions work"
      ]
    },
    {
      "cell_type": "code",
      "metadata": {
        "id": "3Dh6jTzvTlp3",
        "outputId": "7dcdd1e0-0785-489b-b12f-dbfb02d462c8",
        "colab": {
          "base_uri": "https://localhost:8080/"
        }
      },
      "source": [
        "B = np.array([ \\\n",
        "              [1,2,3],\\\n",
        "              [4,5,6],\\\n",
        "              [7,8,9]\\\n",
        "             ])\n",
        "b = mat2vec(B)\n",
        "B = vec2mat(b)\n",
        "print(b)\n",
        "print(B)"
      ],
      "execution_count": 3,
      "outputs": [
        {
          "output_type": "stream",
          "text": [
            "[[1.]\n",
            " [2.]\n",
            " [3.]\n",
            " [4.]\n",
            " [5.]\n",
            " [6.]\n",
            " [7.]\n",
            " [8.]\n",
            " [9.]]\n",
            "[[1. 2. 3.]\n",
            " [4. 5. 6.]\n",
            " [7. 8. 9.]]\n"
          ],
          "name": "stdout"
        }
      ]
    },
    {
      "cell_type": "markdown",
      "metadata": {
        "id": "7cbjc4aeTlp4"
      },
      "source": [
        "So, we can represent a matrix as an array and then go back to our matrix.\n",
        "We will now use it to represent $T_A$ as a matrix. By definition of the matrix representative $\\mathbf{A}$, $$T_A(e_k)=\\sum_{l:0}^{(n+1)^2} \\mathbf{A}_{lk} e_l \\quad \\text{ for } 0\\le k \\le (n+1)^2$$\n",
        "We can solve this equation using `numpy`, but that will be too inefficient. Let's do it explicitly."
      ]
    },
    {
      "cell_type": "markdown",
      "metadata": {
        "id": "p2r954zzTlp5"
      },
      "source": [
        "Since $e_k = E_{\\left[\\frac{k}{n+1}\\right],k-\\left[\\frac{k}{n+1}\\right](n+1)}$, $T_A(e_k) = AE_{\\left[\\frac{k}{n+1}\\right],k-\\left[\\frac{k}{n+1}\\right](n+1)}$. That is,"
      ]
    },
    {
      "cell_type": "markdown",
      "metadata": {
        "id": "CNPZ_4MbTlp5"
      },
      "source": [
        "Letting $A_{pq}$ denote coefficients of $A$, \n",
        "$$T_A(e_k) = \\sum_{i:0}^n A_{i,\\left[\\frac{k}{n+1}\\right]}E_{i,k-\\left[\\frac{k}{n+1}\\right](n+1)}$$\n",
        "That is,\n",
        "$$T_A(e_k) = \\sum_{i:0}^n A_{i,\\left[\\frac{k}{n+1}\\right]}e_{(n+1)i+k-\\left[\\frac{k}{n+1}\\right](n+1)}$$\n",
        "Thus $$\n",
        "\\mathbf{A}_{lk} = \n",
        "\\begin{cases}\n",
        "A_{i_0,\\left[\\frac{k}{n+1}\\right]}\\quad \\text{ if } l=(n+1)i_0+k-\\left[\\frac{k}{n+1}\\right](n+1) \\text{ for some }i_0 \\\\\n",
        "0, \\quad \\text{ otherwise}\n",
        "\\end{cases}\n",
        "$$\n",
        "\n"
      ]
    },
    {
      "cell_type": "markdown",
      "metadata": {
        "id": "RgXokpXNTlp5"
      },
      "source": [
        "So, we'd look over $k,l$ and define\n",
        "$$i:=\\frac{l-k+\\left[\\frac{k}{n+1}\\right](n+1)}{n+1}.$$\n",
        "If it's an integer, we will put the respective value in the matrix. A more efficient way would be to simply loop over $i$ and determine the corresponding $k,l$. I don't know how to do it though. Maybe, loop over $k,i$ instead!? Loop $k$ over $0,...,n^2$ and $i$ over $0,...,n$. That is, the expression of $T_A(e_k)$ give all the non-zero entries and their positions. So, just loop over the parameters that give you the position and put it in.\n",
        "\n",
        "Let's create the function that writes our operator as a matrix, we will denote the $(n+1)\\times(n+1)$ matrix by `A` and its $(n+1)^2\\times (n+1)^2$ representation by `AA`."
      ]
    },
    {
      "cell_type": "code",
      "metadata": {
        "id": "wvV38BOmTlp6"
      },
      "source": [
        "def tensor2mat(A):\n",
        "    n=np.shape(A)[0]-1\n",
        "    AA = np.zeros(((n+1)**2,(n+1)**2))\n",
        "    for k in range(0,(n+1)**2):\n",
        "        for l in range(0,(n+1)**2):\n",
        "            i_num = l-k+floor(k/(n+1))*(n+1)\n",
        "            i_den = n+1\n",
        "            i     = i_num/i_den\n",
        "            if i.is_integer():\n",
        "                i = int(i)\n",
        "                j = int(floor(k/(n+1)))\n",
        "                AA[l,k]=A[i,j]\n",
        "    return AA"
      ],
      "execution_count": 4,
      "outputs": []
    },
    {
      "cell_type": "markdown",
      "metadata": {
        "id": "bF9uuy39Tlp6"
      },
      "source": [
        "We test that it works by using random matrices"
      ]
    },
    {
      "cell_type": "code",
      "metadata": {
        "scrolled": true,
        "id": "GBBh_l9tTlp6"
      },
      "source": [
        "A = np.random.rand(3,3)\n",
        "B = np.random.rand(3,3)\n",
        "AA = tensor2mat(A)\n",
        "b = mat2vec(B)"
      ],
      "execution_count": 10,
      "outputs": []
    },
    {
      "cell_type": "code",
      "metadata": {
        "colab": {
          "base_uri": "https://localhost:8080/"
        },
        "id": "ETorClhXTwd4",
        "outputId": "0bdc2ea8-e029-4942-f993-c1d279b38ce8"
      },
      "source": [
        "print(A)\r\n",
        "print(AA)"
      ],
      "execution_count": 11,
      "outputs": [
        {
          "output_type": "stream",
          "text": [
            "[[0.76525026 0.54337493 0.83179074]\n",
            " [0.49710136 0.75726695 0.4561702 ]\n",
            " [0.28351764 0.38436602 0.24205699]]\n",
            "[[0.76525026 0.         0.         0.54337493 0.         0.\n",
            "  0.83179074 0.         0.        ]\n",
            " [0.         0.76525026 0.         0.         0.54337493 0.\n",
            "  0.         0.83179074 0.        ]\n",
            " [0.         0.         0.76525026 0.         0.         0.54337493\n",
            "  0.         0.         0.83179074]\n",
            " [0.49710136 0.         0.         0.75726695 0.         0.\n",
            "  0.4561702  0.         0.        ]\n",
            " [0.         0.49710136 0.         0.         0.75726695 0.\n",
            "  0.         0.4561702  0.        ]\n",
            " [0.         0.         0.49710136 0.         0.         0.75726695\n",
            "  0.         0.         0.4561702 ]\n",
            " [0.28351764 0.         0.         0.38436602 0.         0.\n",
            "  0.24205699 0.         0.        ]\n",
            " [0.         0.28351764 0.         0.         0.38436602 0.\n",
            "  0.         0.24205699 0.        ]\n",
            " [0.         0.         0.28351764 0.         0.         0.38436602\n",
            "  0.         0.         0.24205699]]\n"
          ],
          "name": "stdout"
        }
      ]
    },
    {
      "cell_type": "code",
      "metadata": {
        "scrolled": false,
        "id": "UXHFvOLiTlp7",
        "outputId": "b435830d-a017-4fcc-f5b4-5e8cf0bf847a"
      },
      "source": [
        "AA@b"
      ],
      "execution_count": null,
      "outputs": [
        {
          "output_type": "execute_result",
          "data": {
            "text/plain": [
              "array([[0.69446933],\n",
              "       [1.00523709],\n",
              "       [0.73041863],\n",
              "       [1.10646946],\n",
              "       [1.56798594],\n",
              "       [1.32589614],\n",
              "       [0.21080779],\n",
              "       [0.5023695 ],\n",
              "       [0.3631381 ]])"
            ]
          },
          "metadata": {
            "tags": []
          },
          "execution_count": 10
        }
      ]
    },
    {
      "cell_type": "code",
      "metadata": {
        "id": "cbxj2ijNTlp7",
        "outputId": "1efcf294-984f-449b-fd67-a09aa5947590"
      },
      "source": [
        "vec2mat(AA@b)"
      ],
      "execution_count": null,
      "outputs": [
        {
          "output_type": "execute_result",
          "data": {
            "text/plain": [
              "array([[0.69446933, 1.00523709, 0.73041863],\n",
              "       [1.10646946, 1.56798594, 1.32589614],\n",
              "       [0.21080779, 0.5023695 , 0.3631381 ]])"
            ]
          },
          "metadata": {
            "tags": []
          },
          "execution_count": 11
        }
      ]
    },
    {
      "cell_type": "code",
      "metadata": {
        "id": "k7v9CY0OTlp7",
        "outputId": "b0aeb647-d267-4df6-fb01-c2f51d75a2df"
      },
      "source": [
        "A@B"
      ],
      "execution_count": null,
      "outputs": [
        {
          "output_type": "execute_result",
          "data": {
            "text/plain": [
              "array([[0.69446933, 1.00523709, 0.73041863],\n",
              "       [1.10646946, 1.56798594, 1.32589614],\n",
              "       [0.21080779, 0.5023695 , 0.3631381 ]])"
            ]
          },
          "metadata": {
            "tags": []
          },
          "execution_count": 13
        }
      ]
    },
    {
      "cell_type": "markdown",
      "metadata": {
        "id": "keLWD4agTlp8"
      },
      "source": [
        "Since both the ways give us the same result, our representation is correct."
      ]
    },
    {
      "cell_type": "markdown",
      "metadata": {
        "id": "nmZx35hLVSMr"
      },
      "source": [
        "Now, we shall do the same thing for an operator of the form $U_A(B) = BA$. That is, we will find $\\mathbf{A}_{(n+1)^2\\times (n+1)^2}$ so that $$U_A(B) = \\mathbf{A}B$$ As before, \r\n",
        "$$U_A(e_k)=\\sum_{l:0}^{(n+1)^2} \\mathbf{A}_{lk} e_l \\quad \\text{ for } 0\\le k \\le (n+1)^2$$\r\n",
        "Letting $A_{pq}$ denote coefficients of $A$,  for $0\\le k \\le (n+1)^2$, $U_A(e_k) = e_kA = E_{\\left[\\frac{k}{n+1}\\right],k-\\left[\\frac{k}{n+1}\\right](n+1)}A$ Noting that $$E_{pq}A = \\sum_{j:0}^n A_{qj}E_{pj}, $$\r\n",
        "we have\r\n",
        "$$E_{\\left[\\frac{k}{n+1}\\right],k-\\left[\\frac{k}{n+1}\\right](n+1)}A = \\sum_{j:0}^n A_{k-\\left[\\frac{k}{n+1}\\right](n+1),j}E_{\\left[\\frac{k}{n+1}\\right],j},$$\r\n",
        "That is,\r\n",
        "$$U_A(e_k) = \\sum_{j:0}^n A_{k-\\left[\\frac{k}{n+1}\\right](n+1),j}e_{\\left[\\frac{k}{n+1}\\right](n+1)+j}$$\r\n",
        "Thus $$\r\n",
        "\\mathbf{A}_{lk} = \r\n",
        "\\begin{cases}\r\n",
        "A_{k-\\left[\\frac{k}{n+1}\\right](n+1),j}\\quad \\text{ if } l= \\left[\\frac{k}{n+1}\\right](n+1)+j \\text{ for some $j$ }\\\\\r\n",
        "0, \\quad \\text{ otherwise}\r\n",
        "\\end{cases}\r\n",
        "$$\r\n",
        "\r\n",
        "So, we loop over $j=0,...,n$ and $k=0,\\dots,n^2$, get the non-zero entries $(p,q)$ and put them in their respective position $(l,k)$."
      ]
    },
    {
      "cell_type": "code",
      "metadata": {
        "id": "yI19fP9GgZXQ"
      },
      "source": [
        "def ltensor2mat(A):\r\n",
        "    n=np.shape(A)[0]-1\r\n",
        "    AA = np.zeros(((n+1)**2,(n+1)**2))\r\n",
        "    for k in range(0,(n+1)**2):\r\n",
        "        for j in range(0,n+1):\r\n",
        "            p = k-floor(k/(n+1))*(n+1)\r\n",
        "            q = j\r\n",
        "            l = floor(k/(n+1))*(n+1)+j\r\n",
        "            p,q,l=int(p),int(q),int(l)\r\n",
        "            AA[l,k]=A[p,q]\r\n",
        "    return AA"
      ],
      "execution_count": 12,
      "outputs": []
    },
    {
      "cell_type": "code",
      "metadata": {
        "id": "Zw3OojH6hGK9"
      },
      "source": [
        "A = np.random.rand(3,3)\r\n",
        "B = np.random.rand(3,3)\r\n",
        "AA = ltensor2mat(A)\r\n",
        "b = mat2vec(B)"
      ],
      "execution_count": 15,
      "outputs": []
    },
    {
      "cell_type": "code",
      "metadata": {
        "scrolled": false,
        "id": "Q8DmTeAOhGK-",
        "outputId": "cb6a9923-ea62-44f9-ef81-a5edf3b5cd00",
        "colab": {
          "base_uri": "https://localhost:8080/"
        }
      },
      "source": [
        "AA@b"
      ],
      "execution_count": 16,
      "outputs": [
        {
          "output_type": "execute_result",
          "data": {
            "text/plain": [
              "array([[1.30885196],\n",
              "       [1.53375694],\n",
              "       [0.5260633 ],\n",
              "       [1.18418272],\n",
              "       [1.36080432],\n",
              "       [0.51086942],\n",
              "       [0.82811321],\n",
              "       [1.01260441],\n",
              "       [0.27217159]])"
            ]
          },
          "metadata": {
            "tags": []
          },
          "execution_count": 16
        }
      ]
    },
    {
      "cell_type": "code",
      "metadata": {
        "id": "emqeSP1_hGK-",
        "outputId": "36e49390-0009-4cdf-c6b0-bef74ff4c938",
        "colab": {
          "base_uri": "https://localhost:8080/"
        }
      },
      "source": [
        "vec2mat(AA@b)"
      ],
      "execution_count": 17,
      "outputs": [
        {
          "output_type": "execute_result",
          "data": {
            "text/plain": [
              "array([[1.30885196, 1.53375694, 0.5260633 ],\n",
              "       [1.18418272, 1.36080432, 0.51086942],\n",
              "       [0.82811321, 1.01260441, 0.27217159]])"
            ]
          },
          "metadata": {
            "tags": []
          },
          "execution_count": 17
        }
      ]
    },
    {
      "cell_type": "code",
      "metadata": {
        "id": "qRXpcSXJhGK_",
        "outputId": "d73e2f3f-30c6-4956-a20b-aae66a30ffb2",
        "colab": {
          "base_uri": "https://localhost:8080/"
        }
      },
      "source": [
        "B@A"
      ],
      "execution_count": 18,
      "outputs": [
        {
          "output_type": "execute_result",
          "data": {
            "text/plain": [
              "array([[1.30885196, 1.53375694, 0.5260633 ],\n",
              "       [1.18418272, 1.36080432, 0.51086942],\n",
              "       [0.82811321, 1.01260441, 0.27217159]])"
            ]
          },
          "metadata": {
            "tags": []
          },
          "execution_count": 18
        }
      ]
    },
    {
      "cell_type": "code",
      "metadata": {
        "id": "vEDuaZ4lhV71"
      },
      "source": [
        ""
      ],
      "execution_count": null,
      "outputs": []
    }
  ]
}