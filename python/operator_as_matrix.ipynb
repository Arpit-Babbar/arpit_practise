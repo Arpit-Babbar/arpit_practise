{
 "cells": [
  {
   "cell_type": "code",
   "execution_count": 1,
   "metadata": {},
   "outputs": [],
   "source": [
    "import numpy as np"
   ]
  },
  {
   "cell_type": "code",
   "execution_count": 15,
   "metadata": {},
   "outputs": [],
   "source": [
    "#kronecker delta function\n",
    "def kron_delta(i,j):\n",
    "  if i==j:\n",
    "    return 1.0\n",
    "  else:\n",
    "    return 0.0\n",
    "#Converts T_A(B)=AB to 4th order tensor\n",
    "#Make it more efficient by looping only over l==j.\n",
    "def l_operator2tensor(A):\n",
    "    n=np.shape(A)[0]-1\n",
    "    C = np.zeros(((n+1),(n+1),(n+1),(n+1)))\n",
    "    for i in range(0,n+1):\n",
    "      for j in range(0,n+1):\n",
    "        for k in range(0,n+1):\n",
    "          for l in range(0,n+1):\n",
    "              C[i,j,k,l]=A[i,k]*kron_delta(l,j)\n",
    "    return C\n",
    "#Converts T_A(B)=BA to 4th order tensor\n",
    "#Make it more efficient by looping only over l==j.\n",
    "def r_operator2tensor(A):\n",
    "    n=np.shape(A)[0]-1\n",
    "    C = np.zeros(((n+1),(n+1),(n+1),(n+1)))\n",
    "    for i in range(0,n+1):\n",
    "      for j in range(0,n+1):\n",
    "        for k in range(0,n+1):\n",
    "          for l in range(0,n+1):\n",
    "              C[i,j,k,l]=A[l,j]*kron_delta(i,k)\n",
    "    return C\n",
    "#Converts right operator to 4th order tensor\n",
    "def tensor2matrix(C):\n",
    "    n=np.shape(A)[0]-1\n",
    "    C = np.reshape(C,((n+1)**2,(n+1)**2))\n",
    "    return C\n",
    "def l_operator2matrix(A):\n",
    "    C = l_operator2tensor(A)\n",
    "    C = tensor2matrix(C)\n",
    "    return C\n",
    "def r_operator2matrix(A):\n",
    "    C = r_operator2tensor(A)\n",
    "    C = tensor2matrix(C)\n",
    "    return C"
   ]
  },
  {
   "cell_type": "markdown",
   "metadata": {},
   "source": [
    "## The efficient version"
   ]
  },
  {
   "cell_type": "code",
   "execution_count": 12,
   "metadata": {},
   "outputs": [],
   "source": [
    "def l_operator2tensor(A):\n",
    "    n=np.shape(A)[0]-1\n",
    "    C = np.zeros(((n+1),(n+1),(n+1),(n+1)))\n",
    "    for i in range(0,n+1):\n",
    "        for j in range(0,n+1):\n",
    "            for k in range(0,n+1):\n",
    "                C[i,j,k,j]=A[i,k]\n",
    "    return C\n",
    "#Converts T_A(B)=BA to 4th order tensor\n",
    "#Make it more efficient by looping only over l==j.\n",
    "def r_operator2tensor(A):\n",
    "    n=np.shape(A)[0]-1\n",
    "    C = np.zeros(((n+1),(n+1),(n+1),(n+1)))\n",
    "    for j in range(0,n+1):\n",
    "        for i in range(0,n+1):\n",
    "            for l in range(0,n+1):\n",
    "                C[i,j,i,l]=A[l,j]\n",
    "    return C"
   ]
  },
  {
   "cell_type": "code",
   "execution_count": 24,
   "metadata": {},
   "outputs": [
    {
     "name": "stdout",
     "output_type": "stream",
     "text": [
      "[[1 2]\n",
      " [3 4]]\n",
      "[[1. 0. 2. 0.]\n",
      " [0. 1. 0. 2.]\n",
      " [3. 0. 4. 0.]\n",
      " [0. 3. 0. 4.]]\n"
     ]
    }
   ],
   "source": [
    "n=2\n",
    "A = np.arange(1,n**2+1)\n",
    "A = np.reshape(A,(n,n))\n",
    "print(A)\n",
    "print(l_operator2matrix(A))"
   ]
  },
  {
   "cell_type": "code",
   "execution_count": null,
   "metadata": {},
   "outputs": [],
   "source": []
  }
 ],
 "metadata": {
  "colab": {
   "include_colab_link": true,
   "name": "operator_as_matrix.ipynb",
   "provenance": []
  },
  "kernelspec": {
   "display_name": "Python 3",
   "language": "python",
   "name": "python3"
  },
  "language_info": {
   "codemirror_mode": {
    "name": "ipython",
    "version": 3
   },
   "file_extension": ".py",
   "mimetype": "text/x-python",
   "name": "python",
   "nbconvert_exporter": "python",
   "pygments_lexer": "ipython3",
   "version": "3.8.5"
  }
 },
 "nbformat": 4,
 "nbformat_minor": 1
}
