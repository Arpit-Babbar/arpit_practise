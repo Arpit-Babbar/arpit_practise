{
 "cells": [
  {
   "cell_type": "markdown",
   "metadata": {},
   "source": [
    "We are given a matrix operator \n",
    "$$\n",
    "T_A:\\mathbb{M}^{n+1} \\to \\mathbb{M}^{n+1}\n",
    "$$\n",
    "defined as \n",
    "$$\n",
    "T_A(B) = AB\n",
    "$$\n",
    "where $A,B$ are $n+1 \\times n+1$ matrices."
   ]
  },
  {
   "cell_type": "markdown",
   "metadata": {},
   "source": [
    "We wish to see $T_A$ as an $(n+1)^2 \\times (n+1)^2$ matrix acting on vectors of size $(n+1)^2$ so that Python can compute its eigenvalues. \n",
    "\n",
    "We'd create a change of basis map $\\Psi : \\mathbb{M}^{n+1} \\to \\mathbb{R}^{(n+1)^2}$ so that corresponding to our operator $T_A$, we have a matrix $\\mathbf{A}_{(n+1)^2\\times (n+1)^2}$ so that, for a matrix $B$, defining $\\mathbf{b}_{(n+1)^2 \\times 1} := \\Psi(B)$, we have \n",
    "$$ \\Psi^{-1}[\\mathbf{A} \\mathbf{b}] = T_A(B) $$"
   ]
  },
  {
   "cell_type": "markdown",
   "metadata": {},
   "source": [
    "\n",
    "We order the standard basis $$\\{E_{ij}\\}_{0 \\le i,j \\le n}$$ as \n",
    "$$\\{E_{00},E_{01},\\dots,E_{0n},E_{10},E_{11},\\dots,E_{nn} \\}.$$\n",
    "That is, we choose the basis to be $\\{e_k\\}_{k:0}^{(n+1)^2}$ where\n",
    "$$e_k = E_{\\left[\\frac{k}{n+1}\\right],k-\\left[\\frac{k}{n+1}\\right](n+1)} $$\n",
    "where $[x]$ gives the greatest integer less than $x$."
   ]
  },
  {
   "cell_type": "markdown",
   "metadata": {},
   "source": [
    "We begin by verifying that our formula indeed forms the basis."
   ]
  },
  {
   "cell_type": "code",
   "execution_count": 82,
   "metadata": {},
   "outputs": [],
   "source": [
    "import numpy as np\n",
    "from numpy import floor,sqrt"
   ]
  },
  {
   "cell_type": "code",
   "execution_count": 34,
   "metadata": {
    "scrolled": true
   },
   "outputs": [
    {
     "name": "stdout",
     "output_type": "stream",
     "text": [
      "[0.0, 0.0]\n",
      "[0.0, 1.0]\n",
      "[0.0, 2.0]\n",
      "[1.0, 0.0]\n",
      "[1.0, 1.0]\n",
      "[1.0, 2.0]\n",
      "[2.0, 0.0]\n",
      "[2.0, 1.0]\n",
      "[2.0, 2.0]\n"
     ]
    }
   ],
   "source": [
    "n=2\n",
    "for k in range(0,(n+1)**2):\n",
    "    print([floor(k/(n+1)),k-np.floor(k/(n+1))*(n+1)])"
   ]
  },
  {
   "cell_type": "markdown",
   "metadata": {},
   "source": [
    "Thus, our ordering of basis we valid.\n",
    "\n",
    "Let's use the formula we verified above to write a matrix as a vector and then back(For going back, we need to note that $E_{ij}=e_{i(n+1)+j}$."
   ]
  },
  {
   "cell_type": "code",
   "execution_count": 142,
   "metadata": {
    "scrolled": false
   },
   "outputs": [
    {
     "name": "stdout",
     "output_type": "stream",
     "text": [
      "[[1.]\n",
      " [2.]\n",
      " [3.]\n",
      " [4.]\n",
      " [5.]\n",
      " [6.]\n",
      " [7.]\n",
      " [8.]\n",
      " [9.]]\n",
      "[[1. 2. 3.]\n",
      " [4. 5. 6.]\n",
      " [7. 8. 9.]]\n"
     ]
    }
   ],
   "source": [
    "def vec_rep(B): #vector representation\n",
    "    n= np.shape(B)[0]-1\n",
    "    b = np.zeros(((n+1)**2,1))\n",
    "    for k in range(0,(n+1)**2):\n",
    "        i,j =floor(k/(n+1)),k-np.floor(k/(n+1))*(n+1)\n",
    "        i,j=int(i),int(j)\n",
    "        b[k,0] = B[i,j]\n",
    "    return np.array(b)\n",
    "def mat_rep(b):\n",
    "    N=np.shape(b)[0]\n",
    "    assert (sqrt(N).is_integer()),'Only perfect square \\\n",
    "            sized 1-d arrays can be represented as matrices'\n",
    "    n=sqrt(N)-1\n",
    "    n=int(n)\n",
    "    B = np.zeros((n+1,n+1))\n",
    "    for i in range(0,n+1):\n",
    "        for j in range(0,n+1):\n",
    "            B[i,j]= b[i*(n+1)+j,0]\n",
    "    return B\n",
    "B = np.array([ \\\n",
    "              [1,2,3],\\\n",
    "              [4,5,6],\\\n",
    "              [7,8,9]\\\n",
    "             ])\n",
    "b = vec_rep(B)\n",
    "B = mat_rep(b)\n",
    "print(b)\n",
    "print(B)"
   ]
  },
  {
   "cell_type": "markdown",
   "metadata": {},
   "source": [
    "So, we can represent a matrix as an array and then go back to our matrix.\n",
    "We will now use it to represent $T_A$ as a matrix. By definition of the matrix representative $\\mathbf{A}$, $$T_A(e_k)=\\sum_{l:0}^{(n+1)^2} \\mathbf{A}_{lk} e_l \\quad \\text{ for } 0\\le k \\le (n+1)^2$$\n",
    "We can solve this equation using `numpy`, but that will be too inefficient. Let's do it explicitly."
   ]
  },
  {
   "cell_type": "markdown",
   "metadata": {},
   "source": [
    "Since $e_k = E_{\\left[\\frac{k}{n+1}\\right],k-\\left[\\frac{k}{n+1}\\right](n+1)}$, $T_A(e_k) = AE_{\\left[\\frac{k}{n+1}\\right],k-\\left[\\frac{k}{n+1}\\right](n+1)}$. That is,"
   ]
  },
  {
   "cell_type": "markdown",
   "metadata": {},
   "source": [
    "Letting $A_{pq}$ denote coefficients of $A$, \n",
    "$$T_A(e_k) = \\sum_{i:0}^n A_{i,\\left[\\frac{k}{n+1}\\right]}E_{i,k-\\left[\\frac{k}{n+1}\\right](n+1)}$$\n",
    "That is,\n",
    "$$T_A(e_k) = \\sum_{i:0}^n A_{i,\\left[\\frac{k}{n+1}\\right]}e_{(n+1)i+k-\\left[\\frac{k}{n+1}\\right](n+1)}$$\n",
    "Thus $$\n",
    "\\mathbf{A}_{lk} = \n",
    "\\begin{cases}\n",
    "A_{i_0,\\left[\\frac{k}{n+1}\\right]}\\quad \\text{ if } l=(n+1)i_0+k-\\left[\\frac{k}{n+1}\\right](n+1) \\text{ for some }i_0 \\\\\n",
    "0, \\quad \\text{ otherwise}\n",
    "\\end{cases}\n",
    "$$\n",
    "\n"
   ]
  },
  {
   "cell_type": "markdown",
   "metadata": {},
   "source": [
    "So, we'd look over $k,l$ and define\n",
    "$$i:=\\frac{l-k+\\left[\\frac{k}{n+1}\\right](n+1)}{n+1}.$$\n",
    "If it's an integer, we will put the respective value in the matrix. A more efficient way would be to simply loop over $i$ and determine the corresponding $k,l$. I don't know how to do it though."
   ]
  },
  {
   "cell_type": "code",
   "execution_count": 143,
   "metadata": {},
   "outputs": [],
   "source": [
    "def mat_mat(A):\n",
    "    n=np.shape(A)[0]-1\n",
    "    AA = np.zeros(((n+1)**2,(n+1)**2))\n",
    "    for k in range(0,(n+1)**2):\n",
    "        for l in range(0,(n+1)**2):\n",
    "            i_num = l-k+floor(k/(n+1))*(n+1)\n",
    "            i_den = n+1\n",
    "            i     = i_num/i_den\n",
    "            if i.is_integer():\n",
    "                i = int(i)\n",
    "                j = int(floor(k/(n+1)))\n",
    "                AA[l,k]=A[i,j]\n",
    "    return AA"
   ]
  },
  {
   "cell_type": "code",
   "execution_count": 165,
   "metadata": {},
   "outputs": [
    {
     "name": "stdout",
     "output_type": "stream",
     "text": [
      "[[0.96126544 0.         0.         0.86771501 0.         0.\n",
      "  0.88768435 0.         0.        ]\n",
      " [0.         0.96126544 0.         0.         0.86771501 0.\n",
      "  0.         0.88768435 0.        ]\n",
      " [0.         0.         0.96126544 0.         0.         0.86771501\n",
      "  0.         0.         0.88768435]\n",
      " [0.20099336 0.         0.         0.52922141 0.         0.\n",
      "  0.72361884 0.         0.        ]\n",
      " [0.         0.20099336 0.         0.         0.52922141 0.\n",
      "  0.         0.72361884 0.        ]\n",
      " [0.         0.         0.20099336 0.         0.         0.52922141\n",
      "  0.         0.         0.72361884]\n",
      " [0.54766312 0.         0.         0.72704187 0.         0.\n",
      "  0.89309014 0.         0.        ]\n",
      " [0.         0.54766312 0.         0.         0.72704187 0.\n",
      "  0.         0.89309014 0.        ]\n",
      " [0.         0.         0.54766312 0.         0.         0.72704187\n",
      "  0.         0.         0.89309014]]\n"
     ]
    }
   ],
   "source": [
    "A = np.random.rand(3,3)\n",
    "B = np.random.rand(3,3)\n",
    "AA = mat_mat(A)\n",
    "print(AA)\n",
    "b = vec_rep(B)"
   ]
  },
  {
   "cell_type": "code",
   "execution_count": 166,
   "metadata": {},
   "outputs": [
    {
     "data": {
      "text/plain": [
       "array([[1.82037937],\n",
       "       [2.04170043],\n",
       "       [1.83906914],\n",
       "       [1.03799071],\n",
       "       [1.14913194],\n",
       "       [1.08630178],\n",
       "       [1.49993148],\n",
       "       [1.66741981],\n",
       "       [1.54036023]])"
      ]
     },
     "execution_count": 166,
     "metadata": {},
     "output_type": "execute_result"
    }
   ],
   "source": [
    "AA@b"
   ]
  },
  {
   "cell_type": "code",
   "execution_count": 167,
   "metadata": {},
   "outputs": [
    {
     "data": {
      "text/plain": [
       "array([[1.82037937, 2.04170043, 1.83906914],\n",
       "       [1.03799071, 1.14913194, 1.08630178],\n",
       "       [1.49993148, 1.66741981, 1.54036023]])"
      ]
     },
     "execution_count": 167,
     "metadata": {},
     "output_type": "execute_result"
    }
   ],
   "source": [
    "mat_rep(AA@b)"
   ]
  },
  {
   "cell_type": "code",
   "execution_count": 168,
   "metadata": {},
   "outputs": [
    {
     "data": {
      "text/plain": [
       "array([[1.82037937, 2.04170043, 1.83906914],\n",
       "       [1.03799071, 1.14913194, 1.08630178],\n",
       "       [1.49993148, 1.66741981, 1.54036023]])"
      ]
     },
     "execution_count": 168,
     "metadata": {},
     "output_type": "execute_result"
    }
   ],
   "source": [
    "A@B"
   ]
  },
  {
   "cell_type": "code",
   "execution_count": null,
   "metadata": {},
   "outputs": [],
   "source": []
  }
 ],
 "metadata": {
  "kernelspec": {
   "display_name": "Python 3",
   "language": "python",
   "name": "python3"
  },
  "language_info": {
   "codemirror_mode": {
    "name": "ipython",
    "version": 3
   },
   "file_extension": ".py",
   "mimetype": "text/x-python",
   "name": "python",
   "nbconvert_exporter": "python",
   "pygments_lexer": "ipython3",
   "version": "3.8.5"
  }
 },
 "nbformat": 4,
 "nbformat_minor": 4
}
