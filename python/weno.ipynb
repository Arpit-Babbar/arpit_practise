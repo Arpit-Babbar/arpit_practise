{
 "cells": [
  {
   "cell_type": "markdown",
   "metadata": {},
   "source": [
    "Our target is to get the degree 2 polynomials $H_i^L, H_i^C, H_i^R$ using $(i-2,i-1,i),(i-1,i,i+1), (i,i+1,i+2)$ respectively.\n",
    "\n",
    "So, we create a function that generates symbolic polynomial like that. Basically, if we give $\\{-1,0,1\\}$ as the point, we would be creating a polynomial $H$ such that \n",
    "$$\n",
    "\\int_{-3/2}^{-1/2} H = f_{i-1}, \\quad \\int_{-1/2}^{1/2} H = f_{i}, \\quad  \\int_{1/2}^{3/2} H = f_{i+1}\n",
    "$$\n",
    "where $f_j$'s would also be symbolic. In general, a degree $k$ approximation would require inputs $\\{i-j-k,\\dots,i-j,\\dots,i-j+k\\}$. Then, we would enforce the condition, for each $l$ in these indices, \n",
    "$$\n",
    "\\int_{l-1/2}^{l+1/2} H = f_l\n",
    "$$"
   ]
  },
  {
   "cell_type": "markdown",
   "metadata": {},
   "source": [
    "We'd use the following sympy resources \n",
    "\n",
    "https://docs.sympy.org/latest/modules/integrals/integrals.html\n",
    "\n",
    "https://medium.com/swlh/basics-of-solving-equations-in-sympy-ad770c14debd\n",
    "\n",
    "https://stackoverflow.com/questions/25985338/solving-a-system-of-algebraic-equations-with-sympy"
   ]
  },
  {
   "cell_type": "markdown",
   "metadata": {},
   "source": [
    "First, let's see whether we can successfully generate one symbolic equation out of \n",
    "$$\n",
    "\\int_{l-1/2}^{l+1/2} H = f_l.\n",
    "$$"
   ]
  },
  {
   "cell_type": "code",
   "execution_count": 21,
   "metadata": {},
   "outputs": [
    {
     "data": {
      "image/png": "[encoded data removed]",
      "text/latex": [
       "$\\displaystyle 1.0 a_{2} + 2.0 b_{2} + 4.0 c_{2}$"
      ],
      "text/plain": [
       "1.0*a2 + 2.0*b2 + 4.0*c2"
      ]
     },
     "execution_count": 21,
     "metadata": {},
     "output_type": "execute_result"
    }
   ],
   "source": [
    "from sympy import *\n",
    "l = 2\n",
    "init_printing(use_unicode=False, wrap_line=False)\n",
    "xi  = Symbol('xi')\n",
    "al = Symbol('a'+str(l))\n",
    "integrand0 = al\n",
    "bl = Symbol('b'+str(l))\n",
    "bl = bl*xi\n",
    "integrand0 += bl\n",
    "cl = Symbol('c'+str(l))\n",
    "cl = cl*(xi**2-1.0/12.0)\n",
    "integrand0 += cl\n",
    "integrate(integrand0,(xi,(l-1/2,l+1/2)))"
   ]
  },
  {
   "cell_type": "markdown",
   "metadata": {},
   "source": [
    "The way we have written it, it appears that we have the freedom to write both the degree of approximation and the points in the function. However, the names of symbols `a,b,c` isn't good. Let's try to replace it with something else."
   ]
  },
  {
   "cell_type": "code",
   "execution_count": 45,
   "metadata": {},
   "outputs": [
    {
     "data": {
      "image/png": "[encoded data removed]",
      "text/latex": [
       "$\\displaystyle 1.0 a_{0,0}$"
      ],
      "text/plain": [
       "1.0*a_{0,0}"
      ]
     },
     "execution_count": 45,
     "metadata": {},
     "output_type": "execute_result"
    }
   ],
   "source": [
    "from sympy import *\n",
    "l = 0\n",
    "init_printing(use_unicode=False, wrap_line=False)\n",
    "xi  = Symbol('xi')\n",
    "sym = Symbol('a_{'+str(0)+','+str(l)+'}')\n",
    "integrand0 = sym\n",
    "sym = Symbol('a_{'+str(1)+','+str(l)+'}')\n",
    "sym = sym*xi\n",
    "integrand0 += sym\n",
    "sym = Symbol('a_{'+str(2)+','+str(l)+'}')\n",
    "sym = sym*(xi**2-1.0/12.0)\n",
    "integrand0 += sym\n",
    "integrate(integrand0,(xi,(l-1/2,l+1/2)))"
   ]
  },
  {
   "cell_type": "markdown",
   "metadata": {},
   "source": [
    "Yes, this is exactly the abstraction we needed!\n",
    "Now, we create a function that generates for degree $k$, the condition centred at $l$"
   ]
  },
  {
   "cell_type": "code",
   "execution_count": 50,
   "metadata": {},
   "outputs": [],
   "source": [
    "def gen_condn(degree, centre):\n",
    "    k = degree\n",
    "    l = centre\n",
    "    xi  = Symbol('xi')\n",
    "    init_printing(use_unicode=False, wrap_line=False)\n",
    "    integrand = 0*xi\n",
    "    for i in range(0,k+1):\n",
    "        sym = Symbol('a_{'+str(i)+','+str(l)+'}')\n",
    "        sym = sym*xi**i\n",
    "        integrand += sym\n",
    "    lhs_condition = integrate(integrand,(xi,(l-1/2,l+1/2)))\n",
    "    return integrand,lhs_condition"
   ]
  },
  {
   "cell_type": "code",
   "execution_count": 51,
   "metadata": {},
   "outputs": [
    {
     "data": {
      "image/png": "[encoded data removed]",
      "text/latex": [
       "$\\displaystyle \\left( a_{0,0} + a_{1,0} \\xi + a_{2,0} \\xi^{2}, \\  1.0 a_{0,0} + 0.0833333333333333 a_{2,0}\\right)$"
      ],
      "text/plain": [
       "                                  2                                           \n",
       "(a_{0,0} + a_{1,0}*xi + a_{2,0}*xi , 1.0*a_{0,0} + 0.0833333333333333*a_{2,0})"
      ]
     },
     "execution_count": 51,
     "metadata": {},
     "output_type": "execute_result"
    }
   ],
   "source": [
    "gen_condn(2,0)"
   ]
  },
  {
   "cell_type": "code",
   "execution_count": null,
   "metadata": {},
   "outputs": [],
   "source": []
  }
 ],
 "metadata": {
  "kernelspec": {
   "display_name": "Python 3",
   "language": "python",
   "name": "python3"
  },
  "language_info": {
   "codemirror_mode": {
    "name": "ipython",
    "version": 3
   },
   "file_extension": ".py",
   "mimetype": "text/x-python",
   "name": "python",
   "nbconvert_exporter": "python",
   "pygments_lexer": "ipython3",
   "version": "3.8.5"
  }
 },
 "nbformat": 4,
 "nbformat_minor": 4
}
